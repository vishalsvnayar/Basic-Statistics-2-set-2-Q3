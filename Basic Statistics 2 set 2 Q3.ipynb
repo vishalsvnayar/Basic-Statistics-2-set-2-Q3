{
 "cells": [
  {
   "cell_type": "markdown",
   "id": "363d3035",
   "metadata": {},
   "source": [
    "**Q3**.\tIf X1 ~ N(μ, σ2) and X2 ~ N(μ, σ2) are iid normal random variables, then what is the difference between 2 X1 and X1 + X2? Discuss both their distributions and parameters.       "
   ]
  },
  {
   "cell_type": "markdown",
   "id": "b68d774a",
   "metadata": {},
   "source": [
    "**Ans**: The mean of 2X1 and X1+X2  is same but the var(sigma**2) of   is 2X1 is 2 times more than the variance of X1+X2\n",
    "The difference between the two says that the two given variables are identically and independently distributed.\n",
    "\n",
    "\n",
    "\n",
    "\n"
   ]
  }
 ],
 "metadata": {
  "kernelspec": {
   "display_name": "Python 3 (ipykernel)",
   "language": "python",
   "name": "python3"
  },
  "language_info": {
   "codemirror_mode": {
    "name": "ipython",
    "version": 3
   },
   "file_extension": ".py",
   "mimetype": "text/x-python",
   "name": "python",
   "nbconvert_exporter": "python",
   "pygments_lexer": "ipython3",
   "version": "3.9.7"
  }
 },
 "nbformat": 4,
 "nbformat_minor": 5
}
